{
  "cells": [
    {
      "cell_type": "code",
      "execution_count": null,
      "metadata": {},
      "outputs": [],
      "source": [
        "제목: CNN을 이용한 감정분석 <br>\n",
        "제작자: Park Chanjun (박찬준) <br>\n",
        "소속: Korea University Natural Language Processing & Artificial Intelligence Lab<br>\n",
        "Email: bcj1210@naver.com<br>\n"
      ]
    },
    {
      "cell_type": "markdown",
      "metadata": {
        "id": "WKGN5psV0lkc",
        "colab_type": "text"
      },
      "source": [
        "**1. 데이터 다운**  \n",
        "출처: https://www.kaggle.com/bittlingmayer/amazonreviews"
      ]
    },
    {
      "cell_type": "code",
      "metadata": {
        "id": "PC1HQ1Yp5-dT",
        "colab_type": "code",
        "colab": {}
      },
      "source": [
        "!git clone https://github.com/Parkchanjun/KU-NLP-2020-1.git\n",
        "!cp ./KU-NLP-2020-1/Sentiment_DATA/* ."
      ],
      "execution_count": 0,
      "outputs": []
    },
    {
      "cell_type": "markdown",
      "metadata": {
        "id": "YwBIxeVU01Sw",
        "colab_type": "text"
      },
      "source": [
        "**2. 패키지 선언 및 Glove 다운로드**"
      ]
    },
    {
      "cell_type": "code",
      "metadata": {
        "id": "6JU8LL3_zVuB",
        "colab_type": "code",
        "colab": {}
      },
      "source": [
        "import os\n",
        "import numpy as np\n",
        "import nltk\n",
        "import random\n",
        "from keras.preprocessing.text import Tokenizer\n",
        "from keras.preprocessing.sequence import pad_sequences\n",
        "nltk.download('punkt')\n",
        "\n",
        "#Glove 다운로드\n",
        "#출처: https://nlp.stanford.edu/projects/glove/\n",
        "!wget http://nlp.stanford.edu/data/glove.6B.zip\n",
        "!unzip glove*.zip"
      ],
      "execution_count": 0,
      "outputs": []
    },
    {
      "cell_type": "markdown",
      "metadata": {
        "id": "Pp7UFXs504nP",
        "colab_type": "text"
      },
      "source": [
        "**3. 학습 데이터와 평가 데이터**\n",
        "\n"
      ]
    },
    {
      "cell_type": "code",
      "metadata": {
        "id": "ZD7A9WfU09Hp",
        "colab_type": "code",
        "colab": {}
      },
      "source": [
        "def read_dataset(dataset_type):\n",
        "  max_seq_len = 0\n",
        "  with open(\"./%s.txt\" % dataset_type, \"r\", encoding=\"utf-8\") as fr_handle:\n",
        "    labels, sentences = [], []\n",
        "    for line in fr_handle:\n",
        "      if line.strip() == 0:\n",
        "        continue\n",
        "      label = line.split(' ')[0]\n",
        "      label = 0 if label == \"__label__1\" else 1 # 부정이면 0, 긍정이면 1\n",
        "\n",
        "      sentence = ' '.join(line.split(' ')[1:])\n",
        "      tokenized_sentence = nltk.word_tokenize(sentence) #단어 단위 분리\n",
        "      max_seq_len = max(max_seq_len, len(tokenized_sentence))#가장 긴 문장길이 구하기 for Padding\n",
        "\n",
        "      labels.append(label)\n",
        "      sentences.append(sentence)\n",
        "    \n",
        "    return labels, sentences, max_seq_len\n",
        "\n",
        "TRAIN_LABELS, TRAIN_SENTENCES, TRAIN_MAX_SEQ_LEN = read_dataset(\"train\") #학습데이터 읽기\n",
        "TEST_LABELS, TEST_SENTENCES, TEST_MAX_SEQ_LEN = read_dataset(\"test\") #테스트데이터 읽기\n",
        "MAX_SEQUENCE_LEN = max(TRAIN_MAX_SEQ_LEN, TEST_MAX_SEQ_LEN) #Train과 Test 전체에서 가장 긴 길이\n",
        "\n",
        "print(\"Train : \", len(TRAIN_SENTENCES))\n",
        "for train_label, train_sent in zip(TRAIN_LABELS, TRAIN_SENTENCES[0:10]):\n",
        "  print(train_label, ':' ,train_sent)\n",
        "\n",
        "print()\n",
        "print(\"Test : \", len(TEST_SENTENCES))\n",
        "for test_label, test_sent in zip(TEST_LABELS, TEST_SENTENCES[0:10]):\n",
        "  print(test_label, ':' ,test_sent)\n",
        "\n",
        "print(\"MAX_SEQUENCE_LEN\", MAX_SEQUENCE_LEN)\n",
        "with open(\"./vocab.txt\", \"r\", encoding=\"utf-8\") as vocab_handle:\n",
        "  VOCAB = [line.strip() for line in vocab_handle if len(line.strip()) > 0]\n",
        "  print(\"Total vocabulary\", VOCAB)"
      ],
      "execution_count": 0,
      "outputs": []
    },
    {
      "cell_type": "markdown",
      "metadata": {
        "id": "BNZ-DfJA1R1x",
        "colab_type": "text"
      },
      "source": [
        "**4. Keras를 통한 전처리 과정**  \n",
        "1) Text를 tokenize하여 id 값으로 변경해 줍니다. (tokenizer.texts_to_sequences)  \n",
        "2) id로 변경해준 문장들을 모두 문장 최대 길이로 padding 처리해 줍니다. (pad_sequences)\n"
      ]
    },
    {
      "cell_type": "code",
      "metadata": {
        "id": "sbXuUUUm1Wf-",
        "colab_type": "code",
        "colab": {}
      },
      "source": [
        "tokenizer = Tokenizer(num_words=len(VOCAB), lower=True, char_level=False) #토크나이저 생성\n",
        "tokenizer.fit_on_texts(TRAIN_SENTENCES) #토큰나이즈 진행\n",
        "TRAIN_SEQUENCES = tokenizer.texts_to_sequences(TRAIN_SENTENCES)#id로 변경\n",
        "TEST_SEQUENCES = tokenizer.texts_to_sequences(TEST_SENTENCES)#id로 변경\n",
        "VOCAB_SIZE = len(tokenizer.word_index) + 1\n",
        "\n",
        "print(TRAIN_SENTENCES[2])\n",
        "print(TRAIN_SEQUENCES[2])\n",
        "\n",
        "X_train = pad_sequences(TRAIN_SEQUENCES, padding='post', maxlen=MAX_SEQUENCE_LEN) #패딩진행\n",
        "X_test = pad_sequences(TEST_SEQUENCES, padding='post', maxlen=MAX_SEQUENCE_LEN) #패딩진행\n",
        "print(\"PAD_SEQUENCES COMPLETES\")\n",
        "print(X_train[0])\n",
        "print(MAX_SEQUENCE_LEN)"
      ],
      "execution_count": 0,
      "outputs": []
    },
    {
      "cell_type": "markdown",
      "metadata": {
        "id": "QoeTSwkc1ffI",
        "colab_type": "text"
      },
      "source": [
        "**5. 모델 설정**  \n",
        "1) Random으로 초기화된 임베딩이 아닌 pre-trained 된 GLoVE 임베딩으로 학습하고자 합니다.  \n",
        "2) 따라서 학습 코퍼스에 있는 단어들 중 GLoVE 임베딩에 있는 단어들을 GLoVE 임베딩으로 초기화 해줍니다.  \n",
        "3) 본 실험에서는 GLoVE 임베딩 크기가 50인 것과 100인 것을 통해 실험을 진행해 봅니다.  "
      ]
    },
    {
      "cell_type": "code",
      "metadata": {
        "id": "IVafgDKW1lL7",
        "colab_type": "code",
        "colab": {}
      },
      "source": [
        "def create_embedding_matrix(filepath, word_index, embedding_dim):\n",
        "    vocab_size = len(word_index) + 1  # Adding again 1 because of reserved 0 index\n",
        "    embedding_matrix = np.zeros((vocab_size, embedding_dim))\n",
        "\n",
        "    with open(filepath) as f:\n",
        "        for line in f:\n",
        "            word, *vector = line.split()\n",
        "            if word in word_index:\n",
        "                idx = word_index[word] \n",
        "                embedding_matrix[idx] = np.array(\n",
        "                    vector, dtype=np.float32)[:embedding_dim]\n",
        "\n",
        "    return embedding_matrix\n",
        "\n",
        "EMBEDDING_DIM = 50 #100\n",
        "embedding_matrix = create_embedding_matrix(\n",
        "    './glove.6B.50d.txt',\n",
        "    tokenizer.word_index, EMBEDDING_DIM\n",
        "    )"
      ],
      "execution_count": 0,
      "outputs": []
    },
    {
      "cell_type": "markdown",
      "metadata": {
        "id": "C-CL-YA-1vKa",
        "colab_type": "text"
      },
      "source": [
        "**6. Accuracy와 Loss 시각화**  "
      ]
    },
    {
      "cell_type": "code",
      "metadata": {
        "id": "TA6q5vn3145r",
        "colab_type": "code",
        "colab": {}
      },
      "source": [
        "import matplotlib.pyplot as plt\n",
        "plt.style.use('ggplot')\n",
        "\n",
        "def plot_history(history):\n",
        "    acc = history.history['acc']\n",
        "    val_acc = history.history['val_acc']\n",
        "    loss = history.history['loss']\n",
        "    val_loss = history.history['val_loss']\n",
        "    x = range(1, len(acc) + 1)\n",
        "\n",
        "    plt.figure(figsize=(12, 5))\n",
        "    plt.subplot(1, 2, 1)\n",
        "    plt.plot(x, acc, 'b', label='Training acc')\n",
        "    plt.plot(x, val_acc, 'r', label='Validation acc')\n",
        "    plt.title('Training and validation accuracy')\n",
        "    plt.legend()\n",
        "    plt.subplot(1, 2, 2)\n",
        "    plt.plot(x, loss, 'b', label='Training loss')\n",
        "    plt.plot(x, val_loss, 'r', label='Validation loss')\n",
        "    plt.title('Training and validation loss')\n",
        "    plt.legend()"
      ],
      "execution_count": 0,
      "outputs": []
    },
    {
      "cell_type": "markdown",
      "metadata": {
        "id": "A4jiG5zL19Bq",
        "colab_type": "text"
      },
      "source": [
        "**7. CNN 모델 선언**  \n",
        "1) Convolution 필터를 앞서 배운 것처럼 여러 개를 사용해 봅시다.  \n",
        "2) 본 모델은 필터의 Window Size가 2, 3, 4, 5인 필터 각 100개씩을 사용해 모델을 학습합니다. 다양한 크기의 필터를 사용하면 성능이 더 올라갈까요?  \n",
        "3) 정답은 \"올라갑니다.\" 입니다. Convolution 필터가 보는 단어의 갯수가 다양하게 되기 때문에 문장의 local 정보와 global 정보 모두를 학습할 수 있게 됩니다. 그럼 실험을 통해 확인해 볼까요?  "
      ]
    },
    {
      "cell_type": "code",
      "metadata": {
        "id": "BFATjiXK2Dqu",
        "colab_type": "code",
        "outputId": "0b2d7cb4-1aca-4f63-ebae-48fa400ca33a",
        "colab": {
          "base_uri": "https://localhost:8080/",
          "height": 1000
        }
      },
      "source": [
        "from keras.models import Sequential\n",
        "from keras import layers\n",
        "from keras.models import Model\n",
        "\n",
        "seq_input = layers.Input(shape=(MAX_SEQUENCE_LEN,), dtype='int32')\n",
        "\n",
        "seq_embedded = layers.Embedding(VOCAB_SIZE, \n",
        "                           EMBEDDING_DIM, \n",
        "                           weights=[embedding_matrix], \n",
        "                           input_length=MAX_SEQUENCE_LEN, \n",
        "                           trainable=True)(seq_input)\n",
        "\n",
        "filters = [2,3,4,5]\n",
        "conv_models = []\n",
        "for filter in filters:\n",
        "  conv_feat = layers.Conv1D(filters=100, \n",
        "                            kernel_size=filter, \n",
        "                            activation='relu',\n",
        "                            padding='valid')(seq_embedded) #Convolution Layer\n",
        "  pooled_feat = layers.GlobalMaxPooling1D()(conv_feat) #MaxPooling\n",
        "  conv_models.append(pooled_feat)\n",
        "\n",
        "conv_merged = layers.concatenate(conv_models, axis=1) #filter size가 2,3,4,5인 결과들 Concatenation\n",
        "\n",
        "model_output = layers.Dropout(0.2)(conv_merged)\n",
        "model_output = layers.Dense(10, activation='relu')(model_output)\n",
        "logits = layers.Dense(1, activation='sigmoid')(model_output)\n",
        "\n",
        "model = Model(seq_input, logits) #(입력,출력)\n",
        "model.compile(optimizer='adam',\n",
        "              loss='binary_crossentropy',\n",
        "              metrics=['accuracy'])\n",
        "model.summary()\n",
        "\n",
        "#학습 시작\n",
        "history = model.fit(X_train, TRAIN_LABELS,\n",
        "                    epochs=10,\n",
        "                    verbose=True,\n",
        "                    validation_data=(X_test, TEST_LABELS),\n",
        "                    batch_size=128)\n",
        "# 결과 시각화\n",
        "plot_history(history)"
      ],
      "execution_count": 0,
      "outputs": [
        {
          "output_type": "stream",
          "text": [
            "WARNING:tensorflow:From /usr/local/lib/python3.6/dist-packages/keras/backend/tensorflow_backend.py:66: The name tf.get_default_graph is deprecated. Please use tf.compat.v1.get_default_graph instead.\n",
            "\n",
            "WARNING:tensorflow:From /usr/local/lib/python3.6/dist-packages/keras/backend/tensorflow_backend.py:541: The name tf.placeholder is deprecated. Please use tf.compat.v1.placeholder instead.\n",
            "\n",
            "WARNING:tensorflow:From /usr/local/lib/python3.6/dist-packages/keras/backend/tensorflow_backend.py:4432: The name tf.random_uniform is deprecated. Please use tf.random.uniform instead.\n",
            "\n",
            "WARNING:tensorflow:From /usr/local/lib/python3.6/dist-packages/keras/backend/tensorflow_backend.py:190: The name tf.get_default_session is deprecated. Please use tf.compat.v1.get_default_session instead.\n",
            "\n",
            "WARNING:tensorflow:From /usr/local/lib/python3.6/dist-packages/keras/backend/tensorflow_backend.py:197: The name tf.ConfigProto is deprecated. Please use tf.compat.v1.ConfigProto instead.\n",
            "\n",
            "WARNING:tensorflow:From /usr/local/lib/python3.6/dist-packages/keras/backend/tensorflow_backend.py:203: The name tf.Session is deprecated. Please use tf.compat.v1.Session instead.\n",
            "\n",
            "WARNING:tensorflow:From /usr/local/lib/python3.6/dist-packages/keras/backend/tensorflow_backend.py:207: The name tf.global_variables is deprecated. Please use tf.compat.v1.global_variables instead.\n",
            "\n",
            "WARNING:tensorflow:From /usr/local/lib/python3.6/dist-packages/keras/backend/tensorflow_backend.py:216: The name tf.is_variable_initialized is deprecated. Please use tf.compat.v1.is_variable_initialized instead.\n",
            "\n",
            "WARNING:tensorflow:From /usr/local/lib/python3.6/dist-packages/keras/backend/tensorflow_backend.py:223: The name tf.variables_initializer is deprecated. Please use tf.compat.v1.variables_initializer instead.\n",
            "\n",
            "WARNING:tensorflow:From /usr/local/lib/python3.6/dist-packages/keras/backend/tensorflow_backend.py:148: The name tf.placeholder_with_default is deprecated. Please use tf.compat.v1.placeholder_with_default instead.\n",
            "\n",
            "WARNING:tensorflow:From /usr/local/lib/python3.6/dist-packages/keras/backend/tensorflow_backend.py:3733: calling dropout (from tensorflow.python.ops.nn_ops) with keep_prob is deprecated and will be removed in a future version.\n",
            "Instructions for updating:\n",
            "Please use `rate` instead of `keep_prob`. Rate should be set to `rate = 1 - keep_prob`.\n",
            "WARNING:tensorflow:From /usr/local/lib/python3.6/dist-packages/keras/optimizers.py:793: The name tf.train.Optimizer is deprecated. Please use tf.compat.v1.train.Optimizer instead.\n",
            "\n",
            "WARNING:tensorflow:From /usr/local/lib/python3.6/dist-packages/keras/backend/tensorflow_backend.py:3657: The name tf.log is deprecated. Please use tf.math.log instead.\n",
            "\n",
            "WARNING:tensorflow:From /tensorflow-1.15.2/python3.6/tensorflow_core/python/ops/nn_impl.py:183: where (from tensorflow.python.ops.array_ops) is deprecated and will be removed in a future version.\n",
            "Instructions for updating:\n",
            "Use tf.where in 2.0, which has the same broadcast rule as np.where\n",
            "Model: \"model_1\"\n",
            "__________________________________________________________________________________________________\n",
            "Layer (type)                    Output Shape         Param #     Connected to                     \n",
            "==================================================================================================\n",
            "input_1 (InputLayer)            (None, 273)          0                                            \n",
            "__________________________________________________________________________________________________\n",
            "embedding_1 (Embedding)         (None, 273, 50)      2476650     input_1[0][0]                    \n",
            "__________________________________________________________________________________________________\n",
            "conv1d_1 (Conv1D)               (None, 272, 100)     10100       embedding_1[0][0]                \n",
            "__________________________________________________________________________________________________\n",
            "conv1d_2 (Conv1D)               (None, 271, 100)     15100       embedding_1[0][0]                \n",
            "__________________________________________________________________________________________________\n",
            "conv1d_3 (Conv1D)               (None, 270, 100)     20100       embedding_1[0][0]                \n",
            "__________________________________________________________________________________________________\n",
            "conv1d_4 (Conv1D)               (None, 269, 100)     25100       embedding_1[0][0]                \n",
            "__________________________________________________________________________________________________\n",
            "global_max_pooling1d_1 (GlobalM (None, 100)          0           conv1d_1[0][0]                   \n",
            "__________________________________________________________________________________________________\n",
            "global_max_pooling1d_2 (GlobalM (None, 100)          0           conv1d_2[0][0]                   \n",
            "__________________________________________________________________________________________________\n",
            "global_max_pooling1d_3 (GlobalM (None, 100)          0           conv1d_3[0][0]                   \n",
            "__________________________________________________________________________________________________\n",
            "global_max_pooling1d_4 (GlobalM (None, 100)          0           conv1d_4[0][0]                   \n",
            "__________________________________________________________________________________________________\n",
            "concatenate_1 (Concatenate)     (None, 400)          0           global_max_pooling1d_1[0][0]     \n",
            "                                                                 global_max_pooling1d_2[0][0]     \n",
            "                                                                 global_max_pooling1d_3[0][0]     \n",
            "                                                                 global_max_pooling1d_4[0][0]     \n",
            "__________________________________________________________________________________________________\n",
            "dropout_1 (Dropout)             (None, 400)          0           concatenate_1[0][0]              \n",
            "__________________________________________________________________________________________________\n",
            "dense_1 (Dense)                 (None, 10)           4010        dropout_1[0][0]                  \n",
            "__________________________________________________________________________________________________\n",
            "dense_2 (Dense)                 (None, 1)            11          dense_1[0][0]                    \n",
            "==================================================================================================\n",
            "Total params: 2,551,071\n",
            "Trainable params: 2,551,071\n",
            "Non-trainable params: 0\n",
            "__________________________________________________________________________________________________\n",
            "WARNING:tensorflow:From /usr/local/lib/python3.6/dist-packages/keras/backend/tensorflow_backend.py:1033: The name tf.assign_add is deprecated. Please use tf.compat.v1.assign_add instead.\n",
            "\n",
            "WARNING:tensorflow:From /usr/local/lib/python3.6/dist-packages/keras/backend/tensorflow_backend.py:1020: The name tf.assign is deprecated. Please use tf.compat.v1.assign instead.\n",
            "\n",
            "Train on 18000 samples, validate on 2000 samples\n",
            "Epoch 1/10\n",
            "18000/18000 [==============================] - 76s 4ms/step - loss: 0.5624 - acc: 0.7002 - val_loss: 0.4293 - val_acc: 0.8015\n",
            "Epoch 2/10\n",
            "18000/18000 [==============================] - 75s 4ms/step - loss: 0.3552 - acc: 0.8425 - val_loss: 0.3373 - val_acc: 0.8505\n",
            "Epoch 3/10\n",
            "18000/18000 [==============================] - 75s 4ms/step - loss: 0.2649 - acc: 0.8906 - val_loss: 0.3114 - val_acc: 0.8675\n",
            "Epoch 4/10\n",
            "18000/18000 [==============================] - 75s 4ms/step - loss: 0.1989 - acc: 0.9233 - val_loss: 0.3225 - val_acc: 0.8665\n",
            "Epoch 5/10\n",
            "18000/18000 [==============================] - 74s 4ms/step - loss: 0.1455 - acc: 0.9477 - val_loss: 0.3196 - val_acc: 0.8740\n",
            "Epoch 6/10\n",
            "18000/18000 [==============================] - 74s 4ms/step - loss: 0.1010 - acc: 0.9671 - val_loss: 0.3320 - val_acc: 0.8705\n",
            "Epoch 7/10\n",
            "18000/18000 [==============================] - 75s 4ms/step - loss: 0.0624 - acc: 0.9828 - val_loss: 0.3549 - val_acc: 0.8730\n",
            "Epoch 8/10\n",
            "18000/18000 [==============================] - 75s 4ms/step - loss: 0.0392 - acc: 0.9898 - val_loss: 0.4135 - val_acc: 0.8685\n",
            "Epoch 9/10\n",
            "18000/18000 [==============================] - 75s 4ms/step - loss: 0.0230 - acc: 0.9958 - val_loss: 0.4118 - val_acc: 0.8715\n",
            "Epoch 10/10\n",
            "18000/18000 [==============================] - 75s 4ms/step - loss: 0.0154 - acc: 0.9974 - val_loss: 0.4405 - val_acc: 0.8720\n"
          ],
          "name": "stdout"
        },
        {
          "output_type": "display_data",
          "data": {
            "image/png": "[encoded data removed]",
            "text/plain": [
              "<Figure size 864x360 with 2 Axes>"
            ]
          },
          "metadata": {
            "tags": []
          }
        }
      ]
    },
    {
      "cell_type": "code",
      "metadata": {
        "id": "scrwpvC__hP4",
        "colab_type": "code",
        "colab": {}
      },
      "source": [
        "from keras.models import load_model\n",
        "model.save('KU_NLP') #모델 저장하기\n",
        "\n",
        "#모델 평가\n",
        "test_loss,test_acc=model.evaluate(X_test,TEST_LABELS)\n",
        "print(\"Test_acc: \",test_acc)"
      ],
      "execution_count": 0,
      "outputs": []
    },
    {
      "cell_type": "code",
      "metadata": {
        "id": "2ze06herAKv9",
        "colab_type": "code",
        "colab": {}
      },
      "source": [
        "from keras.models import load_model\n",
        "model2 = load_model('KU_NLP') #모델 로딩하기 \n",
        "\n",
        "from keras.utils.vis_utils import plot_model\n",
        "plot_model(model2, to_file='model_plot.png', show_shapes=True, show_layer_names=True)"
      ],
      "execution_count": 0,
      "outputs": []
    }
  ],
  "metadata": {
    "colab": {
      "name": " KU-NLP-CNN을 이용한 리뷰 감성 분석",
      "provenance": [],
      "collapsed_sections": []
    },
    "kernelspec": {
      "name": "python3",
      "display_name": "Python 3"
    }
  },
  "nbformat": 4,
  "nbformat_minor": 0
}